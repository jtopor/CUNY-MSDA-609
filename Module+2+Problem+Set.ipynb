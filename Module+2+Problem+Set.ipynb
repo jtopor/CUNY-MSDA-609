{
 "cells": [
  {
   "cell_type": "markdown",
   "metadata": {},
   "source": [
    "# `Module 2 Problem Set`"
   ]
  },
  {
   "cell_type": "markdown",
   "metadata": {},
   "source": [
    "In the first part of the problem set you are going to build a list. Then you will use some of the common list methods that we went over in out Module 2 (e.g. list.remove(), list.count(), etc.) to perform some operations on the list you created. In Part II, you will iterate through the list and perform some operations at each iteration.\n",
    "\n",
    "Finally, in Part II, you will work with real data (Titanic dataset) by making use of the Pandas Python library.\n",
    "\n",
    "Enjoy!"
   ]
  },
  {
   "cell_type": "markdown",
   "metadata": {},
   "source": [
    "### `Part I: Operations on a Python List`"
   ]
  },
  {
   "cell_type": "markdown",
   "metadata": {},
   "source": [
    "1. Create a list that has these elements -> ('one','Three',2,'Four',5.0) and save it into the variable \"myList\"\n",
    "2. Capitalize the first element in the list\n",
    "3. Remove the integer 2 from the list and leave the element-string, \"Two\""
   ]
  },
  {
   "cell_type": "code",
   "execution_count": 1,
   "metadata": {},
   "outputs": [],
   "source": [
    "myList = ['one','Three',2,'Two','Four',5.0]"
   ]
  },
  {
   "cell_type": "code",
   "execution_count": 3,
   "metadata": {},
   "outputs": [],
   "source": [
    "test = ['One','Three','Two','Four',5.0]"
   ]
  },
  {
   "cell_type": "markdown",
   "metadata": {},
   "source": [
    "### `Part II: Iterating through a Python List`"
   ]
  },
  {
   "cell_type": "markdown",
   "metadata": {},
   "source": [
    "1. Re-order the list to be put in the correct order<br>\n",
    "    a. We could create a new list... any ideas for an alternative approach? "
   ]
  },
  {
   "cell_type": "code",
   "execution_count": 6,
   "metadata": {},
   "outputs": [],
   "source": [
    "# enter code here!"
   ]
  },
  {
   "cell_type": "markdown",
   "metadata": {},
   "source": [
    "2. Use the .append() method, and add each element to \"newList\". However, if the element = 5.0, change the value to \"five\" before adding it to \"newList\"\n",
    "    "
   ]
  },
  {
   "cell_type": "code",
   "execution_count": 2,
   "metadata": {},
   "outputs": [
    {
     "ename": "SyntaxError",
     "evalue": "unexpected EOF while parsing (<ipython-input-2-b280514138ff>, line 1)",
     "output_type": "error",
     "traceback": [
      "\u001b[1;36m  File \u001b[1;32m\"<ipython-input-2-b280514138ff>\"\u001b[1;36m, line \u001b[1;32m1\u001b[0m\n\u001b[1;33m    for l in myList:\u001b[0m\n\u001b[1;37m                    ^\u001b[0m\n\u001b[1;31mSyntaxError\u001b[0m\u001b[1;31m:\u001b[0m unexpected EOF while parsing\n"
     ]
    }
   ],
   "source": [
    "newList = []\n",
    "\n",
    "for l in myList:\n",
    "    \n"
   ]
  },
  {
   "cell_type": "markdown",
   "metadata": {},
   "source": [
    "### `Part III: Importing a library`"
   ]
  },
  {
   "cell_type": "markdown",
   "metadata": {},
   "source": [
    "Import the pandas library with the common alias, 'pd'<br>\n",
    "Import numpy library with the common alias, 'np'<br>\n",
    "After importing these two libraries, complete the following:\n",
    "\n",
    "1. Type out \"pd\", followed by a \".\", and then hit the [tab] key ... What happens?\n",
    "2. Type out \"pd.read_csv()\", then put your mouse cursor in the middle of the parenthesis and hit [Shift + Tab}... What Happens?\n",
    "\n"
   ]
  },
  {
   "cell_type": "code",
   "execution_count": null,
   "metadata": {},
   "outputs": [],
   "source": []
  },
  {
   "cell_type": "markdown",
   "metadata": {},
   "source": [
    "### `Part IV: Read in Data into a Pandas Dataframe` "
   ]
  },
  {
   "cell_type": "markdown",
   "metadata": {},
   "source": [
    "From the datasets that are supplied, import a dataset of your choosing using \"pd.read_csv()\". *Remember* - you must specify the delimiter, if needed (e.g. comma delimitted or space delimitted). From there:\n",
    "\n",
    "1. Print out the top 7 rows and the last 11 rows of the dataset - let's make sure our data loaded properly\n",
    "2. Use the .info() and .describe() on your data to learn a bit more\n"
   ]
  },
  {
   "cell_type": "code",
   "execution_count": null,
   "metadata": {},
   "outputs": [],
   "source": []
  },
  {
   "cell_type": "markdown",
   "metadata": {},
   "source": [
    "###  `Part V: Perform Analysis on our Dataframe`"
   ]
  },
  {
   "cell_type": "markdown",
   "metadata": {},
   "source": [
    "Perform the following tasks on the dataset you saved as \"df\" in Part IV:\n",
    "\n",
    "1. Find out if there are any null values in any of the columns\n",
    "2. Find the min,max and average value of a numeric field\n",
    "3. Sort a non-numeric field in ascending order"
   ]
  },
  {
   "cell_type": "code",
   "execution_count": null,
   "metadata": {},
   "outputs": [],
   "source": []
  }
 ],
 "metadata": {
  "kernelspec": {
   "display_name": "Python 3",
   "language": "python",
   "name": "python3"
  },
  "language_info": {
   "codemirror_mode": {
    "name": "ipython",
    "version": 3
   },
   "file_extension": ".py",
   "mimetype": "text/x-python",
   "name": "python",
   "nbconvert_exporter": "python",
   "pygments_lexer": "ipython3",
   "version": "3.7.0"
  }
 },
 "nbformat": 4,
 "nbformat_minor": 2
}
